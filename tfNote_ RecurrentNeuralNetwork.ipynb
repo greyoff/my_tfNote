{
 "cells": [
  {
   "cell_type": "markdown",
   "metadata": {},
   "source": [
    "# Recurrent Nerual Network\n",
    "* 使用MNIST数据作为示例，该数据为手写的0~9数字的图像\n",
    "* 尝试使用RNN对图像数字进行分类\n",
    "* 教程[aymericdamien](https://github.com/aymericdamien/TensorFlow-Examples)方法基于tf.contrib，该模块在TensorFlow2.0中将被弃用\n",
    "* tf.nn.rnn_cell与tf.contirb.rnn两个模块提供的RNN是相同的\n",
    "* tf.nn.dynamic_rnn() tf.nn.bidirectional_dynamic_rnn() 可方便地提取hidden layers的信息\n",
    "* tf.nn.static_rnn() 用法与上面的函数不同，教程里用的是该方法"
   ]
  },
  {
   "cell_type": "markdown",
   "metadata": {},
   "source": [
    "## 示例\n",
    "* 基于教程教程[aymericdamien](https://github.com/aymericdamien/TensorFlow-Examples)\n",
    "* 修改部分方法，tf.contrib模块下的函数改为tf.nn模块下的函数"
   ]
  },
  {
   "cell_type": "code",
   "execution_count": 1,
   "metadata": {},
   "outputs": [],
   "source": [
    "import tensorflow as tf"
   ]
  },
  {
   "cell_type": "code",
   "execution_count": 2,
   "metadata": {
    "collapsed": true
   },
   "outputs": [
    {
     "name": "stdout",
     "output_type": "stream",
     "text": [
      "WARNING:tensorflow:From <ipython-input-2-c3d55fec490c>:2: read_data_sets (from tensorflow.contrib.learn.python.learn.datasets.mnist) is deprecated and will be removed in a future version.\n",
      "Instructions for updating:\n",
      "Please use alternatives such as official/mnist/dataset.py from tensorflow/models.\n",
      "WARNING:tensorflow:From C:\\ProgramData\\Anaconda3\\lib\\site-packages\\tensorflow\\contrib\\learn\\python\\learn\\datasets\\mnist.py:260: maybe_download (from tensorflow.contrib.learn.python.learn.datasets.base) is deprecated and will be removed in a future version.\n",
      "Instructions for updating:\n",
      "Please write your own downloading logic.\n",
      "WARNING:tensorflow:From C:\\ProgramData\\Anaconda3\\lib\\site-packages\\tensorflow\\contrib\\learn\\python\\learn\\datasets\\mnist.py:262: extract_images (from tensorflow.contrib.learn.python.learn.datasets.mnist) is deprecated and will be removed in a future version.\n",
      "Instructions for updating:\n",
      "Please use tf.data to implement this functionality.\n",
      "Extracting /tmp/data/train-images-idx3-ubyte.gz\n",
      "WARNING:tensorflow:From C:\\ProgramData\\Anaconda3\\lib\\site-packages\\tensorflow\\contrib\\learn\\python\\learn\\datasets\\mnist.py:267: extract_labels (from tensorflow.contrib.learn.python.learn.datasets.mnist) is deprecated and will be removed in a future version.\n",
      "Instructions for updating:\n",
      "Please use tf.data to implement this functionality.\n",
      "Extracting /tmp/data/train-labels-idx1-ubyte.gz\n",
      "WARNING:tensorflow:From C:\\ProgramData\\Anaconda3\\lib\\site-packages\\tensorflow\\contrib\\learn\\python\\learn\\datasets\\mnist.py:110: dense_to_one_hot (from tensorflow.contrib.learn.python.learn.datasets.mnist) is deprecated and will be removed in a future version.\n",
      "Instructions for updating:\n",
      "Please use tf.one_hot on tensors.\n",
      "Extracting /tmp/data/t10k-images-idx3-ubyte.gz\n",
      "Extracting /tmp/data/t10k-labels-idx1-ubyte.gz\n",
      "WARNING:tensorflow:From C:\\ProgramData\\Anaconda3\\lib\\site-packages\\tensorflow\\contrib\\learn\\python\\learn\\datasets\\mnist.py:290: DataSet.__init__ (from tensorflow.contrib.learn.python.learn.datasets.mnist) is deprecated and will be removed in a future version.\n",
      "Instructions for updating:\n",
      "Please use alternatives such as official/mnist/dataset.py from tensorflow/models.\n"
     ]
    }
   ],
   "source": [
    "from tensorflow.examples.tutorials.mnist import input_data\n",
    "mnist = input_data.read_data_sets(\"/tmp/data/\", one_hot=True)"
   ]
  },
  {
   "cell_type": "code",
   "execution_count": 3,
   "metadata": {},
   "outputs": [],
   "source": [
    "# training parameters 训练用参数\n",
    "learning_rate = 0.001\n",
    "training_steps = 10000\n",
    "batch_size = 128\n",
    "display_step = 200\n",
    "\n",
    "# network parameters 网络结构参数\n",
    "num_input = 28 # MNIST data input (img shape: 28*28)\n",
    "timesteps = 28 # timesteps\n",
    "num_hidden = 128 # hidden layer num of features\n",
    "num_classes = 10 # MNIST total classes (0-9 digits)\n",
    "\n",
    "# tf graph inputs\n",
    "X = tf.placeholder(tf.float32, [None, timesteps, num_input])\n",
    "Y = tf.placeholder(tf.float32, [None, num_classes])"
   ]
  },
  {
   "cell_type": "code",
   "execution_count": 6,
   "metadata": {},
   "outputs": [],
   "source": [
    "def rnn_construct_static(input_x, weights, biases, hidden_size):\n",
    "    input_x = tf.unstack(input_x, axis = 1)\n",
    "    \n",
    "    lstm_cell = tf.nn.rnn_cell.LSTMCell(hidden_size)\n",
    "    outputs, _ = tf.nn.static_rnn(lstm_cell, input_x, dtype = tf.float32)\n",
    "    \n",
    "    return tf.nn.xw_plus_b(outputs[-1], weights, biases)"
   ]
  },
  {
   "cell_type": "code",
   "execution_count": 12,
   "metadata": {},
   "outputs": [],
   "source": [
    "def rnn_construct_dynamic(input_x, weights, biases, hidden_size):\n",
    "    lstm_cell = tf.nn.rnn_cell.LSTMCell(hidden_size)\n",
    "    _, final_state = tf.nn.dynamic_rnn(lstm_cell, input_x, dtype = tf.float32)\n",
    "    \n",
    "    return tf.nn.xw_plus_b(final_state, weights, biases)"
   ]
  },
  {
   "cell_type": "code",
   "execution_count": 9,
   "metadata": {},
   "outputs": [],
   "source": [
    "with tf.variable_scope(\"rnn_network_1\"):\n",
    "    # Define weights\n",
    "    weights = tf.Variable(tf.random_normal([num_hidden, num_classes]))\n",
    "    biases = tf.Variable(tf.random_normal([num_classes]))\n",
    "    # Define network outputs\n",
    "    logits = rnn_construct_static(X, weights, biases, num_hidden)\n",
    "    prediction = tf.nn.softmax(logits)"
   ]
  },
  {
   "cell_type": "code",
   "execution_count": 10,
   "metadata": {
    "collapsed": true
   },
   "outputs": [
    {
     "name": "stdout",
     "output_type": "stream",
     "text": [
      "WARNING:tensorflow:From <ipython-input-10-96adc9514d9f>:4: softmax_cross_entropy_with_logits (from tensorflow.python.ops.nn_ops) is deprecated and will be removed in a future version.\n",
      "Instructions for updating:\n",
      "\n",
      "Future major versions of TensorFlow will allow gradients to flow\n",
      "into the labels input on backprop by default.\n",
      "\n",
      "See `tf.nn.softmax_cross_entropy_with_logits_v2`.\n",
      "\n"
     ]
    }
   ],
   "source": [
    "with tf.variable_scope(\"training_1\"):\n",
    "    # Define loss and optimizer\n",
    "    loss_op = tf.reduce_mean(tf.nn.softmax_cross_entropy_with_logits(\n",
    "        logits=logits, labels=Y))\n",
    "    optimizer = tf.train.GradientDescentOptimizer(learning_rate=learning_rate)\n",
    "    train_op = optimizer.minimize(loss_op)\n",
    "\n",
    "    # Evaluate model (with test logits, for dropout to be disabled)\n",
    "    correct_pred = tf.equal(tf.argmax(prediction, 1), tf.argmax(Y, 1))  # prediction -> logits OK!\n",
    "    accuracy = tf.reduce_mean(tf.cast(correct_pred, tf.float32))\n",
    "\n",
    "    # Initialize the variables (i.e. assign their default value)\n",
    "    init = tf.global_variables_initializer()"
   ]
  },
  {
   "cell_type": "code",
   "execution_count": 11,
   "metadata": {},
   "outputs": [
    {
     "name": "stdout",
     "output_type": "stream",
     "text": [
      "Step 1, Minibatch Loss= 2.7392, Training Accuracy= 0.125\n",
      "Step 200, Minibatch Loss= 2.1329, Training Accuracy= 0.289\n",
      "Step 400, Minibatch Loss= 1.9307, Training Accuracy= 0.359\n",
      "Step 600, Minibatch Loss= 1.7596, Training Accuracy= 0.477\n",
      "Step 800, Minibatch Loss= 1.6280, Training Accuracy= 0.469\n",
      "Step 1000, Minibatch Loss= 1.6127, Training Accuracy= 0.461\n",
      "Step 1200, Minibatch Loss= 1.4764, Training Accuracy= 0.508\n",
      "Step 1400, Minibatch Loss= 1.4134, Training Accuracy= 0.555\n",
      "Step 1600, Minibatch Loss= 1.2770, Training Accuracy= 0.578\n",
      "Step 1800, Minibatch Loss= 1.1860, Training Accuracy= 0.625\n",
      "Step 2000, Minibatch Loss= 0.9845, Training Accuracy= 0.711\n",
      "Step 2200, Minibatch Loss= 1.4661, Training Accuracy= 0.500\n",
      "Step 2400, Minibatch Loss= 1.1462, Training Accuracy= 0.609\n",
      "Step 2600, Minibatch Loss= 1.1971, Training Accuracy= 0.633\n",
      "Step 2800, Minibatch Loss= 1.1023, Training Accuracy= 0.648\n",
      "Step 3000, Minibatch Loss= 0.9388, Training Accuracy= 0.711\n",
      "Step 3200, Minibatch Loss= 1.0490, Training Accuracy= 0.680\n",
      "Step 3400, Minibatch Loss= 0.8097, Training Accuracy= 0.750\n",
      "Step 3600, Minibatch Loss= 1.0885, Training Accuracy= 0.664\n",
      "Step 3800, Minibatch Loss= 1.0429, Training Accuracy= 0.672\n",
      "Step 4000, Minibatch Loss= 0.9285, Training Accuracy= 0.719\n",
      "Step 4200, Minibatch Loss= 0.9613, Training Accuracy= 0.672\n",
      "Step 4400, Minibatch Loss= 0.9135, Training Accuracy= 0.719\n",
      "Step 4600, Minibatch Loss= 0.8483, Training Accuracy= 0.680\n",
      "Step 4800, Minibatch Loss= 0.6476, Training Accuracy= 0.820\n",
      "Step 5000, Minibatch Loss= 0.6974, Training Accuracy= 0.773\n",
      "Step 5200, Minibatch Loss= 0.8232, Training Accuracy= 0.688\n",
      "Step 5400, Minibatch Loss= 0.8085, Training Accuracy= 0.719\n",
      "Step 5600, Minibatch Loss= 0.8168, Training Accuracy= 0.734\n",
      "Step 5800, Minibatch Loss= 0.6606, Training Accuracy= 0.766\n",
      "Step 6000, Minibatch Loss= 0.8140, Training Accuracy= 0.703\n",
      "Step 6200, Minibatch Loss= 0.6272, Training Accuracy= 0.812\n",
      "Step 6400, Minibatch Loss= 0.6524, Training Accuracy= 0.766\n",
      "Step 6600, Minibatch Loss= 0.6723, Training Accuracy= 0.773\n",
      "Step 6800, Minibatch Loss= 0.7561, Training Accuracy= 0.773\n",
      "Step 7000, Minibatch Loss= 0.5390, Training Accuracy= 0.844\n",
      "Step 7200, Minibatch Loss= 0.7069, Training Accuracy= 0.750\n",
      "Step 7400, Minibatch Loss= 0.6489, Training Accuracy= 0.797\n",
      "Step 7600, Minibatch Loss= 0.6850, Training Accuracy= 0.742\n",
      "Step 7800, Minibatch Loss= 0.5946, Training Accuracy= 0.805\n",
      "Step 8000, Minibatch Loss= 0.6953, Training Accuracy= 0.805\n",
      "Step 8200, Minibatch Loss= 0.4897, Training Accuracy= 0.812\n",
      "Step 8400, Minibatch Loss= 0.6550, Training Accuracy= 0.789\n",
      "Step 8600, Minibatch Loss= 0.4085, Training Accuracy= 0.875\n",
      "Step 8800, Minibatch Loss= 0.5616, Training Accuracy= 0.812\n",
      "Step 9000, Minibatch Loss= 0.4225, Training Accuracy= 0.883\n",
      "Step 9200, Minibatch Loss= 0.4716, Training Accuracy= 0.875\n",
      "Step 9400, Minibatch Loss= 0.4658, Training Accuracy= 0.820\n",
      "Step 9600, Minibatch Loss= 0.5459, Training Accuracy= 0.828\n",
      "Step 9800, Minibatch Loss= 0.5532, Training Accuracy= 0.812\n",
      "Step 10000, Minibatch Loss= 0.3818, Training Accuracy= 0.891\n",
      "Optimization Finished!\n",
      "Testing Accuracy: 0.8671875\n"
     ]
    }
   ],
   "source": [
    "# Start training\n",
    "with tf.Session() as sess:\n",
    "\n",
    "    # Run the initializer\n",
    "    sess.run(init)\n",
    "\n",
    "    for step in range(1, training_steps+1):\n",
    "        batch_x, batch_y = mnist.train.next_batch(batch_size)\n",
    "        # Reshape data to get 28 seq of 28 elements\n",
    "        batch_x = batch_x.reshape((batch_size, timesteps, num_input))\n",
    "        # Run optimization op (backprop)\n",
    "        sess.run(train_op, feed_dict={X: batch_x, Y: batch_y})\n",
    "        if step % display_step == 0 or step == 1:\n",
    "            # Calculate batch loss and accuracy\n",
    "            loss, acc = sess.run([loss_op, accuracy], feed_dict={X: batch_x,\n",
    "                                                                 Y: batch_y})\n",
    "            print(\"Step \" + str(step) + \", Minibatch Loss= \" + \\\n",
    "                  \"{:.4f}\".format(loss) + \", Training Accuracy= \" + \\\n",
    "                  \"{:.3f}\".format(acc))\n",
    "\n",
    "    print(\"Optimization Finished!\")\n",
    "\n",
    "    # Calculate accuracy for 128 mnist test images\n",
    "    test_len = 128\n",
    "    test_data = mnist.test.images[:test_len].reshape((-1, timesteps, num_input))\n",
    "    test_label = mnist.test.labels[:test_len]\n",
    "    print(\"Testing Accuracy:\", \\\n",
    "        sess.run(accuracy, feed_dict={X: test_data, Y: test_label}))"
   ]
  },
  {
   "cell_type": "markdown",
   "metadata": {},
   "source": [
    "## tf方法说明\n",
    "大部分摘自官方文档。\n",
    "\n",
    "### 类 [tf.nn.rnn_cell.LSTMCell](https://tensorflow.google.cn/api_docs/python/tf/nn/rnn_cell)\n",
    "* 为模块 [tf.nn.rnn_cell](https://tensorflow.google.cn/api_docs/python/tf/nn/rnn_cell) 下的类，以本类LSTMCell为例讲解RNN的Cell\n",
    "* **\\_\\_init\\_\\_(num_units, ...)** 有其他inputs，先不用管。\n",
    "  * num_units: int, The number of units in the LSTM cell.\n",
    "  * num_units == hidden layer dimension 即num_units设置的是RNN中隐藏层的维数\n",
    "\n",
    "### 函数 [tf.nn.static_rnn](https://tensorflow.google.cn/api_docs/python/tf/nn/static_rnn)\n",
    "* 输入: A length T list of inputs, each a Tensor of shape **[batch_size, input_size]**, or a nested tuple of such elements.\n",
    "* 输出: A pair (outputs, state) where:\n",
    "  * outputs is **a length T list** of outputs (one for each input), or a nested tuple of such elements.\n",
    "  * state is the final state\n",
    "* 说明：输出的特征维数同隐藏层维数，具体见下面函数的说明。\n",
    "\n",
    "### 函数[tf.nn.dynamic_rnn](https://tensorflow.google.cn/api_docs/python/tf/nn/dynamic_rnn)\n",
    "**tf.nn.dynamic_rnn(cell, inputs, ...)**\n",
    "\n",
    "* 网上说该函数比上面函数具有更好的特性，下面提供一些网上的说法：\n",
    "  * rnn在计算变长文本的时候，使用dynamic_rnn更加节省计算量，推荐使用这个。\n",
    "  * 总的来说，优先使用dynamic_rnn，因为它的graph创建速度快，且可用于处理可变大小的batch。\n",
    "* 输入: The RNN inputs. \n",
    "  * If time_major == False (default), this must be a Tensor of shape: **[batch_size, max_time, ...]**, or a nested tuple of such elements. \n",
    "  * If time_major == True, this must be a Tensor of shape: **[max_time, batch_size, ...]**, or a nested tuple of such elements.\n",
    "* 输出: A pair (outputs, state) where:\n",
    "  * outputs: The RNN output Tensor.\n",
    "    * If time_major == False (default), this will be a Tensor shaped: **[batch_size, max_time, cell.output_size]**.  \n",
    "    * If time_major == True, this will be a Tensor shaped: **[max_time, batch_size, cell.output_size]**.  \n",
    "    * Note, if cell.output_size is a (possibly nested) tuple of integers or TensorShape objects, then outputs will be a tuple having the same structure as cell.output_size, containing Tensors having shapes corresponding to the shape data in cell.output_size.\n",
    "  * state: The final state. If cell.state_size is an int, this will be shaped **[batch_size, cell.state_size]**. If it is a TensorShape, this will be shaped [batch_size] + cell.state_size. If it is a (possibly nested) tuple of ints or TensorShape, this will be a tuple having the corresponding shapes. If cells are LSTMCells state will be a tuple containing a LSTMStateTuple for each cell.\n",
    "* 说明：一般来说，若建立rnn cell时未进行num_units外的设置，函数tf.nn.dynamic_rnn()输出中 **cell.output_size == cell.state_size == num_units**，即为隐藏层维数。\n",
    "\n",
    "###  函数 [tf.unstack](https://tensorflow.google.cn/api_docs/python/tf/unstack)\n",
    "**tf.unstack(value, num=None, axis=0, name='unstack')**\n",
    "\n",
    "在使用tf.nn.static_rnn时会用到。\n",
    "\n",
    "For example, given a tensor of shape **(A, B, C, D)**; \n",
    "\n",
    "If axis == 0 then the i'th tensor in output is the slice value[i, :, :, :] and each tensor in output will have shape **(B, C, D)**. (Note that the dimension unpacked along is gone, unlike split). \n",
    "\n",
    "If axis == 1 then the i'th tensor in output is the slice value[:, i, :, :] and each tensor in output will have shape **(A, C, D)**. Etc."
   ]
  },
  {
   "cell_type": "code",
   "execution_count": null,
   "metadata": {},
   "outputs": [],
   "source": []
  }
 ],
 "metadata": {
  "kernelspec": {
   "display_name": "Python 3",
   "language": "python",
   "name": "python3"
  },
  "language_info": {
   "codemirror_mode": {
    "name": "ipython",
    "version": 3
   },
   "file_extension": ".py",
   "mimetype": "text/x-python",
   "name": "python",
   "nbconvert_exporter": "python",
   "pygments_lexer": "ipython3",
   "version": "3.6.7"
  }
 },
 "nbformat": 4,
 "nbformat_minor": 2
}
